{
 "cells": [
  {
   "cell_type": "code",
   "execution_count": 1,
   "metadata": {},
   "outputs": [],
   "source": [
    "import glob\n",
    "import os\n",
    "import datetime"
   ]
  },
  {
   "cell_type": "code",
   "execution_count": 14,
   "metadata": {},
   "outputs": [],
   "source": [
    "def create_html(www_directory_path : str) -> None:\n",
    "    www_directory_path = os.path.join(www_directory_path, \"\")  # If no trailing / add it\n",
    "    html = \"<!DOCTYPE html><html><title>Front Door Images</title>\"\n",
    "    html += \"<meta name='viewport' content='width=device-width, initial-scale=1'>\"\n",
    "    html += \"<link rel='stylesheet' href='https://www.w3schools.com/w3css/4/w3.css'>\"\n",
    "    html += \"<link rel='stylesheet' href='css/mycss.css'>\"\n",
    "    html += \"<body><div class='w3-content w3-display-container'>\"\n",
    "\n",
    "    files = glob.glob(www_directory_path + \"*.jpg\")\n",
    "    for file_path in files:\n",
    "        time_string = datetime.datetime.utcnow().strftime('%A %d %b %Y %I:%M%p')\n",
    "        html += \"<span class='myDate'>\" + time_string + \"</span>\"\n",
    "        html += f\"<img class='mySlides' src='{www_directory_path}\" + os.path.basename(file_path) + \"' style='width:100%'>\"\n",
    "\n",
    "    html += \"<button class='w3-button w3-black w3-display-left' onclick='plusDivs(-1)'>&#10094;</button>\"\n",
    "    html += \"<button class='w3-button w3-black w3-display-right' onclick='plusDivs(1)'>&#10095;</button>\"\n",
    "    html += \"</div><script src='js/myscripts.js'></script></body></html>\"\n",
    "    print(html)\n",
    "    with open(\"index.html\",'w') as index_file:\n",
    "        index_file.write(html)"
   ]
  },
  {
   "cell_type": "code",
   "execution_count": 15,
   "metadata": {},
   "outputs": [],
   "source": [
    "www_directory_path = \"/Users/robin/.homeassistant/www/\""
   ]
  },
  {
   "cell_type": "code",
   "execution_count": 16,
   "metadata": {},
   "outputs": [
    {
     "data": {
      "text/plain": [
       "['/Users/robin/.homeassistant/www/idris.jpg',\n",
       " '/Users/robin/.homeassistant/www/blank.jpg',\n",
       " '/Users/robin/.homeassistant/www/family.jpg',\n",
       " '/Users/robin/.homeassistant/www/objects.jpg',\n",
       " '/Users/robin/.homeassistant/www/couple.jpg',\n",
       " '/Users/robin/.homeassistant/www/test-image3.jpg']"
      ]
     },
     "execution_count": 16,
     "metadata": {},
     "output_type": "execute_result"
    }
   ],
   "source": [
    "files  = glob.glob(www_directory_path + \"*.jpg\")\n",
    "files"
   ]
  },
  {
   "cell_type": "code",
   "execution_count": 17,
   "metadata": {},
   "outputs": [
    {
     "data": {
      "text/plain": [
       "'idris.jpg'"
      ]
     },
     "execution_count": 17,
     "metadata": {},
     "output_type": "execute_result"
    }
   ],
   "source": [
    "os.path.basename(files[0])"
   ]
  },
  {
   "cell_type": "code",
   "execution_count": 18,
   "metadata": {},
   "outputs": [
    {
     "data": {
      "text/plain": [
       "'Saturday 28 Sep 2019 04:58AM'"
      ]
     },
     "execution_count": 18,
     "metadata": {},
     "output_type": "execute_result"
    }
   ],
   "source": [
    "datetime.datetime.utcnow().strftime('%A %d %b %Y %I:%M%p')"
   ]
  },
  {
   "cell_type": "code",
   "execution_count": 19,
   "metadata": {},
   "outputs": [
    {
     "name": "stdout",
     "output_type": "stream",
     "text": [
      "<!DOCTYPE html><html><title>Front Door Images</title><meta name='viewport' content='width=device-width, initial-scale=1'><link rel='stylesheet' href='https://www.w3schools.com/w3css/4/w3.css'><link rel='stylesheet' href='css/mycss.css'><body><div class='w3-content w3-display-container'><span class='myDate'>Saturday 28 Sep 2019 04:58AM</span><img class='mySlides' src='/Users/robin/.homeassistant/www/idris.jpg' style='width:100%'><span class='myDate'>Saturday 28 Sep 2019 04:58AM</span><img class='mySlides' src='/Users/robin/.homeassistant/www/blank.jpg' style='width:100%'><span class='myDate'>Saturday 28 Sep 2019 04:58AM</span><img class='mySlides' src='/Users/robin/.homeassistant/www/family.jpg' style='width:100%'><span class='myDate'>Saturday 28 Sep 2019 04:58AM</span><img class='mySlides' src='/Users/robin/.homeassistant/www/objects.jpg' style='width:100%'><span class='myDate'>Saturday 28 Sep 2019 04:58AM</span><img class='mySlides' src='/Users/robin/.homeassistant/www/couple.jpg' style='width:100%'><span class='myDate'>Saturday 28 Sep 2019 04:58AM</span><img class='mySlides' src='/Users/robin/.homeassistant/www/test-image3.jpg' style='width:100%'><button class='w3-button w3-black w3-display-left' onclick='plusDivs(-1)'>&#10094;</button><button class='w3-button w3-black w3-display-right' onclick='plusDivs(1)'>&#10095;</button></div><script src='js/myscripts.js'></script></body></html>\n"
     ]
    }
   ],
   "source": [
    "create_html(www_directory_path)"
   ]
  },
  {
   "cell_type": "code",
   "execution_count": null,
   "metadata": {},
   "outputs": [],
   "source": []
  }
 ],
 "metadata": {
  "kernelspec": {
   "display_name": "Python 3",
   "language": "python",
   "name": "python3"
  },
  "language_info": {
   "codemirror_mode": {
    "name": "ipython",
    "version": 3
   },
   "file_extension": ".py",
   "mimetype": "text/x-python",
   "name": "python",
   "nbconvert_exporter": "python",
   "pygments_lexer": "ipython3",
   "version": "3.7.3"
  }
 },
 "nbformat": 4,
 "nbformat_minor": 4
}
